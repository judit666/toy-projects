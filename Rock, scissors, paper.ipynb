{
 "cells": [
  {
   "cell_type": "code",
   "execution_count": 1,
   "metadata": {
    "ExecuteTime": {
     "end_time": "2021-09-23T07:18:54.845097Z",
     "start_time": "2021-09-23T07:18:54.830137Z"
    }
   },
   "outputs": [],
   "source": [
    "import random"
   ]
  },
  {
   "cell_type": "markdown",
   "metadata": {},
   "source": [
    "## Playing with manual input\n"
   ]
  },
  {
   "cell_type": "code",
   "execution_count": 2,
   "metadata": {
    "ExecuteTime": {
     "end_time": "2021-09-23T07:18:54.861100Z",
     "start_time": "2021-09-23T07:18:54.847091Z"
    }
   },
   "outputs": [],
   "source": [
    "possibilities = [\"rock\", \"scissors\", \"paper\"]\n",
    "computer_action = random.choice(possibilities)"
   ]
  },
  {
   "cell_type": "code",
   "execution_count": 4,
   "metadata": {
    "ExecuteTime": {
     "end_time": "2021-09-23T07:19:56.634387Z",
     "start_time": "2021-09-23T07:19:56.616410Z"
    }
   },
   "outputs": [],
   "source": [
    "user_input = \"rock\""
   ]
  },
  {
   "cell_type": "code",
   "execution_count": 5,
   "metadata": {
    "ExecuteTime": {
     "end_time": "2021-09-23T07:19:57.334159Z",
     "start_time": "2021-09-23T07:19:57.320196Z"
    }
   },
   "outputs": [
    {
     "name": "stdout",
     "output_type": "stream",
     "text": [
      "\n",
      "You chose rock, the computer chose scissors.\n",
      "\n"
     ]
    }
   ],
   "source": [
    "print(f\"\\nYou chose {user_input}, the computer chose {computer_action}.\\n\")"
   ]
  },
  {
   "cell_type": "markdown",
   "metadata": {},
   "source": [
    "## Handling the different scenarios"
   ]
  },
  {
   "cell_type": "code",
   "execution_count": 6,
   "metadata": {
    "ExecuteTime": {
     "end_time": "2021-09-23T07:20:06.626316Z",
     "start_time": "2021-09-23T07:20:06.607398Z"
    }
   },
   "outputs": [
    {
     "name": "stdout",
     "output_type": "stream",
     "text": [
      "Rock smashes scissors, you won!\n"
     ]
    }
   ],
   "source": [
    "# When you chose the same\n",
    "if user_input == computer_action: \n",
    "    print(\"You both picked {user_input}\")\n",
    "# When you choose rock\n",
    "elif user_input == \"rock\":\n",
    "    if computer_action == \"scissors\":\n",
    "        print(\"Rock smashes scissors, you won!\")\n",
    "    else:\n",
    "        print(\"Paper covers the rock, you lost!\")\n",
    "# When you choose scissors\n",
    "elif user_input == \"scissors\":\n",
    "    if computer_action == \"rock\":\n",
    "        print(\"Rock smashes scissors, you lost!\")\n",
    "    else:\n",
    "        print(\"Scissor cuts the paper, you won!\")\n",
    "# When you choose paper\n",
    "elif user_input == \"paper\":\n",
    "    if computer_action == \"rock\":\n",
    "        print(\"Paper covers the rock, you won!\")\n",
    "    else:\n",
    "        print(\"Scissor cuts the paper, you lost!\")"
   ]
  },
  {
   "cell_type": "code",
   "execution_count": 7,
   "metadata": {
    "ExecuteTime": {
     "end_time": "2021-09-23T07:20:26.502277Z",
     "start_time": "2021-09-23T07:20:26.489291Z"
    }
   },
   "outputs": [],
   "source": [
    "from enum import IntEnum\n",
    "\n",
    "class Action(IntEnum):\n",
    "    Rock = 0\n",
    "    Paper = 1\n",
    "    Scissors = 2"
   ]
  },
  {
   "cell_type": "code",
   "execution_count": 8,
   "metadata": {
    "ExecuteTime": {
     "end_time": "2021-09-23T07:20:30.432210Z",
     "start_time": "2021-09-23T07:20:30.414240Z"
    }
   },
   "outputs": [],
   "source": [
    "def get_user_choice():\n",
    "    choices = [f\"{action.name}[{action.value}]\" for action in Action]\n",
    "    choices_str = \", \".join(choices)\n",
    "    selection = int(input(f\"Enter a choice ({choices_str}): \" ))\n",
    "    action = Action(selection)\n",
    "    return action"
   ]
  },
  {
   "cell_type": "code",
   "execution_count": 9,
   "metadata": {
    "ExecuteTime": {
     "end_time": "2021-09-23T07:20:31.354556Z",
     "start_time": "2021-09-23T07:20:31.341585Z"
    }
   },
   "outputs": [],
   "source": [
    "def get_computer_choice():\n",
    "    selection = random.randint(0,2)\n",
    "    action = Action(selection)\n",
    "    return action"
   ]
  },
  {
   "cell_type": "code",
   "execution_count": 10,
   "metadata": {
    "ExecuteTime": {
     "end_time": "2021-09-23T07:21:05.084959Z",
     "start_time": "2021-09-23T07:21:00.012138Z"
    }
   },
   "outputs": [
    {
     "name": "stdout",
     "output_type": "stream",
     "text": [
      "Enter a choice (Rock[0], Paper[1], Scissors[2]): 1\n"
     ]
    },
    {
     "data": {
      "text/plain": [
       "<Action.Paper: 1>"
      ]
     },
     "execution_count": 10,
     "metadata": {},
     "output_type": "execute_result"
    }
   ],
   "source": [
    "first = get_user_choice()\n",
    "first"
   ]
  },
  {
   "cell_type": "code",
   "execution_count": 11,
   "metadata": {
    "ExecuteTime": {
     "end_time": "2021-09-23T07:21:07.107475Z",
     "start_time": "2021-09-23T07:21:07.099501Z"
    }
   },
   "outputs": [
    {
     "data": {
      "text/plain": [
       "<Action.Paper: 1>"
      ]
     },
     "execution_count": 11,
     "metadata": {},
     "output_type": "execute_result"
    }
   ],
   "source": [
    "comp = get_computer_choice()\n",
    "comp"
   ]
  },
  {
   "cell_type": "markdown",
   "metadata": {
    "ExecuteTime": {
     "end_time": "2021-02-19T18:05:03.198583Z",
     "start_time": "2021-02-19T18:05:03.193630Z"
    }
   },
   "source": [
    "#### Determining the winner"
   ]
  },
  {
   "cell_type": "code",
   "execution_count": 12,
   "metadata": {
    "ExecuteTime": {
     "end_time": "2021-09-23T07:21:10.921490Z",
     "start_time": "2021-09-23T07:21:10.916499Z"
    }
   },
   "outputs": [],
   "source": [
    "def who_won(user_input, computer_action):\n",
    "        # When you chose the same\n",
    "    if user_input == computer_action: \n",
    "        print(f\"You both picked {user_input.name}!\")\n",
    "    # When you choose rock\n",
    "    elif user_input == Action.Rock:\n",
    "        if computer_action == Action.Scissors:\n",
    "            print(\"Rock smashes scissors, you won!\")\n",
    "        else:\n",
    "            print(\"Paper covers the rock, you lost!\")\n",
    "    # When you choose scissors\n",
    "    elif user_input == Action.Scissors:\n",
    "        if computer_action == Action.Rock:\n",
    "            print(\"Rock smashes scissors, you lost!\")\n",
    "        else:\n",
    "            print(\"Scissor cuts the paper, you won!\")\n",
    "    # When you choose paper\n",
    "    elif user_input == Action.Paper:\n",
    "        if computer_action == Action.Rock:\n",
    "            print(\"Paper covers the rock, you won!\")\n",
    "        else:\n",
    "            print(\"Scissor cuts the paper, you lost!\")"
   ]
  },
  {
   "cell_type": "code",
   "execution_count": 13,
   "metadata": {
    "ExecuteTime": {
     "end_time": "2021-09-23T07:21:13.222013Z",
     "start_time": "2021-09-23T07:21:13.204094Z"
    }
   },
   "outputs": [
    {
     "name": "stdout",
     "output_type": "stream",
     "text": [
      "You both picked Paper!\n"
     ]
    }
   ],
   "source": [
    "won = who_won(Action.Paper, comp)\n",
    "won"
   ]
  },
  {
   "cell_type": "markdown",
   "metadata": {},
   "source": [
    "## Playing more games"
   ]
  },
  {
   "cell_type": "code",
   "execution_count": 14,
   "metadata": {
    "ExecuteTime": {
     "end_time": "2021-09-23T07:21:26.767815Z",
     "start_time": "2021-09-23T07:21:23.644632Z"
    }
   },
   "outputs": [
    {
     "name": "stdout",
     "output_type": "stream",
     "text": [
      "Rock smashes scissors, you won!\n",
      "Do you want to play more? Type yes or no: yes\n"
     ]
    }
   ],
   "source": [
    "while True:\n",
    "        # When you chose the same\n",
    "    if user_input == computer_action: \n",
    "        print(\"You both picked {user_input}\")\n",
    "    # When you choose rock\n",
    "    elif user_input == \"rock\":\n",
    "        if computer_action == \"scissors\":\n",
    "            print(\"Rock smashes scissors, you won!\")\n",
    "        else:\n",
    "            print(\"Paper covers the rock, you lost!\")\n",
    "    # When you choose scissors\n",
    "    elif user_input == \"scissors\":\n",
    "        if computer_action == \"rock\":\n",
    "            print(\"Rock smashes scissors, you lost!\")\n",
    "        else:\n",
    "            print(\"Scissor cuts the paper, you won!\")\n",
    "    # When you choose paper\n",
    "    elif user_input == \"paper\":\n",
    "        if computer_action == \"rock\":\n",
    "            print(\"Paper covers the rock, you won!\")\n",
    "        else:\n",
    "            print(\"Scissor cuts the paper, you lost!\")\n",
    "            \n",
    "    play_again = input(\"Do you want to play more? Type yes or no: \")\n",
    "    if play_again.lower() != \"y\":\n",
    "        break"
   ]
  }
 ],
 "metadata": {
  "kernelspec": {
   "display_name": "Python 3",
   "language": "python",
   "name": "python3"
  },
  "language_info": {
   "codemirror_mode": {
    "name": "ipython",
    "version": 3
   },
   "file_extension": ".py",
   "mimetype": "text/x-python",
   "name": "python",
   "nbconvert_exporter": "python",
   "pygments_lexer": "ipython3",
   "version": "3.7.8"
  },
  "toc": {
   "base_numbering": 1,
   "nav_menu": {},
   "number_sections": true,
   "sideBar": true,
   "skip_h1_title": false,
   "title_cell": "Table of Contents",
   "title_sidebar": "Contents",
   "toc_cell": false,
   "toc_position": {},
   "toc_section_display": true,
   "toc_window_display": false
  }
 },
 "nbformat": 4,
 "nbformat_minor": 4
}
